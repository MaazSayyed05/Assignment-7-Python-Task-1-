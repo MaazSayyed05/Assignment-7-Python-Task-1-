{
 "cells": [
  {
   "cell_type": "code",
   "execution_count": 23,
   "id": "f515738e-f534-4839-8d1a-47705915778c",
   "metadata": {},
   "outputs": [],
   "source": [
    "def check_type(l):\n",
    "    num_list=[]\n",
    "    for i in l:\n",
    "        if type(i)==int or type(i)==float:\n",
    "            num_list.append(i)\n",
    "            \n",
    "        \n",
    "        elif type(i)==list:\n",
    "            num_list= num_list + check_type(i)\n",
    "            \n",
    "            \n",
    "        elif type(i)==tuple:\n",
    "            num_list = num_list + check_type(list(i))\n",
    "            \n",
    "        \n",
    "        elif type(i)==set:\n",
    "            num_list = num_list + check_type(list(i))\n",
    "            \n",
    "        \n",
    "        elif type(i)==dict:\n",
    "            l1=i.keys()\n",
    "            l2=i.values()\n",
    "            num_list = num_list + check_type(l1)\n",
    "            num_list = num_list + check_type(l2)\n",
    "            \n",
    "    return num_list\n",
    "     "
   ]
  },
  {
   "cell_type": "code",
   "execution_count": 31,
   "id": "e2fd1a1d-f0cf-4c6d-aab1-a4fce253b422",
   "metadata": {},
   "outputs": [
    {
     "data": {
      "text/plain": [
       "[1,\n",
       " 2,\n",
       " 3,\n",
       " 4,\n",
       " 44,\n",
       " 55,\n",
       " 66,\n",
       " 34,\n",
       " 56,\n",
       " 78,\n",
       " 89,\n",
       " 34,\n",
       " 1,\n",
       " 2,\n",
       " 3,\n",
       " 1,\n",
       " 4,\n",
       " 34,\n",
       " 55,\n",
       " 67,\n",
       " 78,\n",
       " 89,\n",
       " 45,\n",
       " 22,\n",
       " 61,\n",
       " 34,\n",
       " 56]"
      ]
     },
     "execution_count": 31,
     "metadata": {},
     "output_type": "execute_result"
    }
   ],
   "source": [
    "from functools import reduce\n",
    "list1= [1,2,3,4, [44,55,66, True], False, (34,56,78,89,34), {1,2,3,3,2,1},\n",
    "{1:34, \"key2\": [55, 67, 78, 89], 4: (45, 22, 61, 34)}, \n",
    "[56, 'data science'], 'Machine Learning']\n",
    "\n",
    "num_l = check_type(list1)\n",
    "num_l\n"
   ]
  },
  {
   "cell_type": "code",
   "execution_count": 32,
   "id": "92c02fde-3a84-4979-aa1e-6636f31c6611",
   "metadata": {},
   "outputs": [
    {
     "data": {
      "text/plain": [
       "4134711838987085478833841242112000"
      ]
     },
     "execution_count": 32,
     "metadata": {},
     "output_type": "execute_result"
    }
   ],
   "source": [
    "reduce(lambda n1,n2:n1*n2,num_l)"
   ]
  },
  {
   "cell_type": "code",
   "execution_count": 33,
   "id": "221fbce9-097a-405c-8056-7552bfb7c9e4",
   "metadata": {},
   "outputs": [],
   "source": [
    "str1=\"I want to become a Data Scientist.\"\n",
    "str2=\"\"\n",
    "for i in range(len(str1)):\n",
    "    if str1[i]==\"a\":\n",
    "        str2=str2+str1[i].replace(str1[i],\"z\")\n",
    "    \n",
    "    elif str1[i]==\"b\":\n",
    "        str2=str2+str1[i].replace(str1[i],\"y\")\n",
    "    \n",
    "    elif str1[i]==\"c\":\n",
    "        str2=str2+str1[i].replace(str1[i],\"x\")\n",
    "    \n",
    "    elif str1[i]==\" \":\n",
    "        str2=str2+str1[i].replace(str1[i],\"$\")\n",
    "    \n",
    "    else:\n",
    "        str2=str2+str1[i]\n"
   ]
  },
  {
   "cell_type": "code",
   "execution_count": 34,
   "id": "b9abea5c-27ba-4081-a446-8f985e6b3105",
   "metadata": {},
   "outputs": [],
   "source": [
    "str2=str2.lower()"
   ]
  },
  {
   "cell_type": "code",
   "execution_count": 35,
   "id": "2470fe44-11d2-47e1-a2ab-a85899018b02",
   "metadata": {},
   "outputs": [
    {
     "data": {
      "text/plain": [
       "'i$wznt$to$yexome$z$dztz$sxientist.'"
      ]
     },
     "execution_count": 35,
     "metadata": {},
     "output_type": "execute_result"
    }
   ],
   "source": [
    "str2"
   ]
  },
  {
   "cell_type": "code",
   "execution_count": null,
   "id": "e86d47a7-2746-4ff5-b786-a0e00899d7ae",
   "metadata": {},
   "outputs": [],
   "source": []
  }
 ],
 "metadata": {
  "kernelspec": {
   "display_name": "Python 3 (ipykernel)",
   "language": "python",
   "name": "python3"
  },
  "language_info": {
   "codemirror_mode": {
    "name": "ipython",
    "version": 3
   },
   "file_extension": ".py",
   "mimetype": "text/x-python",
   "name": "python",
   "nbconvert_exporter": "python",
   "pygments_lexer": "ipython3",
   "version": "3.10.8"
  }
 },
 "nbformat": 4,
 "nbformat_minor": 5
}
